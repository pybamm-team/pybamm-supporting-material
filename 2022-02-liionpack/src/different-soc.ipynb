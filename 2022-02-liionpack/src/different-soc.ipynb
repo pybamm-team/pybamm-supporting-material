{
 "cells": [
  {
   "cell_type": "code",
   "execution_count": 15,
   "id": "d56f264d",
   "metadata": {},
   "outputs": [],
   "source": [
    "\"\"\"\n",
    "Example of running a simulation with two batteries of different initial SOC.\n",
    "\"\"\"\n",
    "\n",
    "import liionpack as lp\n",
    "import pybamm\n",
    "import numpy as np\n",
    "import matplotlib.pyplot as plt\n",
    "import textwrap"
   ]
  },
  {
   "cell_type": "code",
   "execution_count": 20,
   "id": "2abffc2a",
   "metadata": {},
   "outputs": [
    {
     "name": "stderr",
     "output_type": "stream",
     "text": [
      "2022-02-10 16:09:10,625 - [NOTICE] netlist_utils.setup_circuit(333): Circuit created\n",
      "2022-02-10 16:09:10 - [NOTICE] netlist_utils.setup_circuit(333): Circuit created\n",
      "2022-02-10 16:09:10,766 - [NOTICE] solvers.check_current_function(285): Parameter: Current function [A] has been set to input\n",
      "2022-02-10 16:09:10 - [NOTICE] solvers.check_current_function(285): Parameter: Current function [A] has been set to input\n",
      "2022-02-10 16:09:11,210 - [NOTICE] solvers.solve(206): Starting step solve\n",
      "2022-02-10 16:09:11 - [NOTICE] solvers.solve(206): Starting step solve\n",
      "Stepping simulation: 100%|█████████████████████████████████████████████████████████████████████████████████████████████████████████████████████████████████████████████████████████████████████████████████████████████████████████████████████████████████████████████| 631/631 [00:02<00:00, 238.29it/s]\n",
      "2022-02-10 16:09:13,861 - [NOTICE] solvers.solve(258): Step solve finished\n",
      "2022-02-10 16:09:13 - [NOTICE] solvers.solve(258): Step solve finished\n",
      "2022-02-10 16:09:13,861 - [NOTICE] solvers.solve(273): Total stepping time 2.651s\n",
      "2022-02-10 16:09:13 - [NOTICE] solvers.solve(273): Total stepping time 2.651s\n",
      "2022-02-10 16:09:13,862 - [NOTICE] solvers.solve(276): Time per step 0.004s\n",
      "2022-02-10 16:09:13 - [NOTICE] solvers.solve(276): Time per step 0.004s\n"
     ]
    }
   ],
   "source": [
    "lp.logger.setLevel(\"NOTICE\")\n",
    "\n",
    "# Define parameters\n",
    "Np = 2\n",
    "Ns = 1\n",
    "Iapp = 5\n",
    "\n",
    "# Generate the netlist and output variables\n",
    "netlist = lp.setup_circuit(Np=Np, Ns=Ns, Rb=1.5e-3, Rc=1e-2, Ri=5e-2, V=4.0, I=Iapp)\n",
    "output_variables = [\n",
    "    \"Negative electrode SOC\",\n",
    "    \"Positive electrode SOC\",\n",
    "]\n",
    "\n",
    "# Cycling experiment\n",
    "experiment = pybamm.Experiment(\n",
    "    [\n",
    "        f\"Charge at {Iapp} A for 30 minutes\",\n",
    "        \"Rest for 15 minutes\",\n",
    "        f\"Discharge at {Iapp} A for 30 minutes\",\n",
    "        \"Rest for 30 minutes\",\n",
    "    ],\n",
    "    period=\"10 seconds\",\n",
    ")\n",
    "\n",
    "# PyBaMM parameters\n",
    "param = pybamm.pybamm.ParameterValues(\"Chen2020\")\n",
    "\n",
    "c_s_n_init, c_s_p_init = lp.update_init_conc(\n",
    "    param, SoC=np.array([0.4, 0.7]), update=False\n",
    ")\n",
    "\n",
    "param.update(\n",
    "    {\n",
    "        \"Initial concentration in negative electrode [mol.m-3]\": \"[input]\",\n",
    "        \"Initial concentration in positive electrode [mol.m-3]\": \"[input]\",\n",
    "    }\n",
    ")\n",
    "\n",
    "inputs = {\n",
    "    \"Initial concentration in negative electrode [mol.m-3]\": c_s_n_init,\n",
    "    \"Initial concentration in positive electrode [mol.m-3]\": c_s_p_init,\n",
    "}\n",
    "\n",
    "# Solve pack\n",
    "output = lp.solve(\n",
    "    netlist=netlist,\n",
    "    parameter_values=param,\n",
    "    experiment=experiment,\n",
    "    output_variables=output_variables,\n",
    "    initial_soc=None,\n",
    "    inputs=inputs,\n",
    ")"
   ]
  },
  {
   "cell_type": "markdown",
   "id": "8a643601",
   "metadata": {},
   "source": [
    "Plot"
   ]
  },
  {
   "cell_type": "code",
   "execution_count": 24,
   "id": "be44f57a",
   "metadata": {},
   "outputs": [
    {
     "name": "stderr",
     "output_type": "stream",
     "text": [
      "2022-02-10 16:11:28,125 - [WARNING] backend_ps._is_transparent(303): The PostScript backend does not support transparency; partially transparent artists will be rendered opaque.\n",
      "2022-02-10 16:11:28 - [WARNING] backend_ps._is_transparent(303): The PostScript backend does not support transparency; partially transparent artists will be rendered opaque.\n"
     ]
    },
    {
     "data": {
      "image/png": "[encoded data removed]",
      "text/plain": [
       "<Figure size 432x288 with 2 Axes>"
      ]
     },
     "metadata": {
      "needs_background": "light"
     },
     "output_type": "display_data"
    }
   ],
   "source": [
    "\n",
    "# Get time and results for battery cells\n",
    "time = output[\"Time [s]\"]\n",
    "cell_vars = [\"Negative electrode SOC\", \"Positive electrode SOC\"]\n",
    "\n",
    "context = \"light\"\n",
    "context = lp.lp_context(context)\n",
    "cmap = lp.lp_cmap(context)\n",
    "\n",
    "# Get number of cells and setup colormap\n",
    "n = output[cell_vars[0]].shape[-1]\n",
    "colors = cmap(np.linspace(0, 1, n))\n",
    "\n",
    "# Create plot figures for cell variables\n",
    "fig, axes = plt.subplots(1,2,tight_layout=True,sharex=True,sharey=True)\n",
    "with plt.rc_context(context):\n",
    "    for j, var in enumerate(cell_vars):\n",
    "        ax = axes[j]\n",
    "        for i in range(n):\n",
    "            ax.plot(time, output[var][:, i], color=colors[i])\n",
    "        ax.set_xlabel(\"Time [s]\")\n",
    "        ax.set_ylabel(textwrap.fill(var, 45))\n",
    "        ax.ticklabel_format(axis=\"y\", scilimits=[-5, 5])\n",
    "        ax.set_xlim([0,time[-1]])\n",
    "        ax.grid(alpha=0.5)\n",
    "        \n",
    "    fig.savefig(\"../figures/different_soc.eps\",dpi=1000)\n",
    "    fig.savefig(\"../figures/different_soc.pdf\")"
   ]
  },
  {
   "cell_type": "code",
   "execution_count": null,
   "id": "0481cbe3",
   "metadata": {},
   "outputs": [],
   "source": []
  }
 ],
 "metadata": {
  "kernelspec": {
   "display_name": "Python 3 (ipykernel)",
   "language": "python",
   "name": "python3"
  },
  "language_info": {
   "codemirror_mode": {
    "name": "ipython",
    "version": 3
   },
   "file_extension": ".py",
   "mimetype": "text/x-python",
   "name": "python",
   "nbconvert_exporter": "python",
   "pygments_lexer": "ipython3",
   "version": "3.9.10"
  },
  "toc": {
   "base_numbering": 1,
   "nav_menu": {},
   "number_sections": true,
   "sideBar": true,
   "skip_h1_title": false,
   "title_cell": "Table of Contents",
   "title_sidebar": "Contents",
   "toc_cell": false,
   "toc_position": {},
   "toc_section_display": true,
   "toc_window_display": true
  }
 },
 "nbformat": 4,
 "nbformat_minor": 5
}
