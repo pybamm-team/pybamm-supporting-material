{
 "cells": [
  {
   "cell_type": "markdown",
   "id": "10e22a64",
   "metadata": {},
   "source": [
    "# PyBaMM show and tell\n",
    "\n",
    "PyBaMM is an open-source package to simulate physics-based models for lithium-ion batteries using state-of-the-art techniques.  The package is built on Python, and provides a flexible platform for implementation and comparison of new models and numerical methods, and an easy interaction with other Python packages. PyBaMM includes a broad range of standard and cutting-edge models for lithium-ion batteries including electrochemical, thermal and degradation effects.\n",
    "\n",
    "PyBaMM can easily be installed from Python Package Index (PyPI) with a single line of code in your terminal:"
   ]
  },
  {
   "cell_type": "code",
   "execution_count": 1,
   "id": "ecb5dac3",
   "metadata": {},
   "outputs": [
    {
     "name": "stdout",
     "output_type": "stream",
     "text": [
      "Requirement already satisfied: pybamm in c:\\users\\planel_f\\pybamm-supporting-material\\env\\lib\\site-packages (22.2)\n",
      "Requirement already satisfied: jupyter in c:\\users\\planel_f\\pybamm-supporting-material\\env\\lib\\site-packages (from pybamm) (1.0.0)\n",
      "Requirement already satisfied: numpy>=1.16 in c:\\users\\planel_f\\pybamm-supporting-material\\env\\lib\\site-packages (from pybamm) (1.21.5)\n",
      "Requirement already satisfied: scikit-fem>=0.2.0 in c:\\users\\planel_f\\pybamm-supporting-material\\env\\lib\\site-packages (from pybamm) (6.0.0)\n",
      "Requirement already satisfied: sympy==1.9 in c:\\users\\planel_f\\pybamm-supporting-material\\env\\lib\\site-packages (from pybamm) (1.9)\n",
      "Requirement already satisfied: matplotlib>=2.0 in c:\\users\\planel_f\\pybamm-supporting-material\\env\\lib\\site-packages (from pybamm) (3.5.1)\n",
      "Requirement already satisfied: pandas>=0.24 in c:\\users\\planel_f\\pybamm-supporting-material\\env\\lib\\site-packages (from pybamm) (1.3.5)\n",
      "Requirement already satisfied: anytree>=2.4.3 in c:\\users\\planel_f\\pybamm-supporting-material\\env\\lib\\site-packages (from pybamm) (2.8.0)\n",
      "Requirement already satisfied: pybtex in c:\\users\\planel_f\\pybamm-supporting-material\\env\\lib\\site-packages (from pybamm) (0.24.0)\n",
      "Requirement already satisfied: scipy>=1.3 in c:\\users\\planel_f\\pybamm-supporting-material\\env\\lib\\site-packages (from pybamm) (1.7.3)\n",
      "Requirement already satisfied: autograd>=1.2 in c:\\users\\planel_f\\pybamm-supporting-material\\env\\lib\\site-packages (from pybamm) (1.3)\n",
      "Requirement already satisfied: casadi>=3.5.0 in c:\\users\\planel_f\\pybamm-supporting-material\\env\\lib\\site-packages (from pybamm) (3.5.5)\n",
      "Requirement already satisfied: imageio>=2.9.0 in c:\\users\\planel_f\\pybamm-supporting-material\\env\\lib\\site-packages (from pybamm) (2.16.1)\n",
      "Requirement already satisfied: mpmath>=0.19 in c:\\users\\planel_f\\pybamm-supporting-material\\env\\lib\\site-packages (from sympy==1.9->pybamm) (1.2.1)\n",
      "Requirement already satisfied: six>=1.9.0 in c:\\users\\planel_f\\pybamm-supporting-material\\env\\lib\\site-packages (from anytree>=2.4.3->pybamm) (1.16.0)\n",
      "Requirement already satisfied: future>=0.15.2 in c:\\users\\planel_f\\pybamm-supporting-material\\env\\lib\\site-packages (from autograd>=1.2->pybamm) (0.18.2)\n",
      "Requirement already satisfied: pillow>=8.3.2 in c:\\users\\planel_f\\pybamm-supporting-material\\env\\lib\\site-packages (from imageio>=2.9.0->pybamm) (9.0.1)\n",
      "Requirement already satisfied: pyparsing>=2.2.1 in c:\\users\\planel_f\\pybamm-supporting-material\\env\\lib\\site-packages (from matplotlib>=2.0->pybamm) (3.0.7)\n",
      "Requirement already satisfied: fonttools>=4.22.0 in c:\\users\\planel_f\\pybamm-supporting-material\\env\\lib\\site-packages (from matplotlib>=2.0->pybamm) (4.31.1)\n",
      "Requirement already satisfied: python-dateutil>=2.7 in c:\\users\\planel_f\\pybamm-supporting-material\\env\\lib\\site-packages (from matplotlib>=2.0->pybamm) (2.8.2)\n",
      "Requirement already satisfied: packaging>=20.0 in c:\\users\\planel_f\\pybamm-supporting-material\\env\\lib\\site-packages (from matplotlib>=2.0->pybamm) (21.3)\n",
      "Requirement already satisfied: cycler>=0.10 in c:\\users\\planel_f\\pybamm-supporting-material\\env\\lib\\site-packages (from matplotlib>=2.0->pybamm) (0.11.0)\n",
      "Requirement already satisfied: kiwisolver>=1.0.1 in c:\\users\\planel_f\\pybamm-supporting-material\\env\\lib\\site-packages (from matplotlib>=2.0->pybamm) (1.4.0)\n",
      "Requirement already satisfied: pytz>=2017.3 in c:\\users\\planel_f\\pybamm-supporting-material\\env\\lib\\site-packages (from pandas>=0.24->pybamm) (2022.1)\n",
      "Requirement already satisfied: ipywidgets in c:\\users\\planel_f\\pybamm-supporting-material\\env\\lib\\site-packages (from jupyter->pybamm) (7.7.0)\n",
      "Requirement already satisfied: nbconvert in c:\\users\\planel_f\\pybamm-supporting-material\\env\\lib\\site-packages (from jupyter->pybamm) (6.4.4)\n",
      "Requirement already satisfied: ipykernel in c:\\users\\planel_f\\pybamm-supporting-material\\env\\lib\\site-packages (from jupyter->pybamm) (6.9.2)\n",
      "Requirement already satisfied: jupyter-console in c:\\users\\planel_f\\pybamm-supporting-material\\env\\lib\\site-packages (from jupyter->pybamm) (6.4.3)\n",
      "Requirement already satisfied: notebook in c:\\users\\planel_f\\pybamm-supporting-material\\env\\lib\\site-packages (from jupyter->pybamm) (6.4.10)\n",
      "Requirement already satisfied: qtconsole in c:\\users\\planel_f\\pybamm-supporting-material\\env\\lib\\site-packages (from jupyter->pybamm) (5.2.2)\n",
      "Requirement already satisfied: PyYAML>=3.01 in c:\\users\\planel_f\\pybamm-supporting-material\\env\\lib\\site-packages (from pybtex->pybamm) (6.0)\n",
      "Requirement already satisfied: latexcodec>=1.0.4 in c:\\users\\planel_f\\pybamm-supporting-material\\env\\lib\\site-packages (from pybtex->pybamm) (2.0.1)\n",
      "Requirement already satisfied: typing-extensions in c:\\users\\planel_f\\pybamm-supporting-material\\env\\lib\\site-packages (from kiwisolver>=1.0.1->matplotlib>=2.0->pybamm) (4.1.1)\n",
      "Requirement already satisfied: matplotlib-inline<0.2.0,>=0.1.0 in c:\\users\\planel_f\\pybamm-supporting-material\\env\\lib\\site-packages (from ipykernel->jupyter->pybamm) (0.1.3)\n",
      "Requirement already satisfied: ipython>=7.23.1 in c:\\users\\planel_f\\pybamm-supporting-material\\env\\lib\\site-packages (from ipykernel->jupyter->pybamm) (7.32.0)\n",
      "Requirement already satisfied: jupyter-client<8.0 in c:\\users\\planel_f\\pybamm-supporting-material\\env\\lib\\site-packages (from ipykernel->jupyter->pybamm) (7.1.2)\n",
      "Requirement already satisfied: nest-asyncio in c:\\users\\planel_f\\pybamm-supporting-material\\env\\lib\\site-packages (from ipykernel->jupyter->pybamm) (1.5.4)\n",
      "Requirement already satisfied: psutil in c:\\users\\planel_f\\pybamm-supporting-material\\env\\lib\\site-packages (from ipykernel->jupyter->pybamm) (5.9.0)\n",
      "Requirement already satisfied: traitlets<6.0,>=5.1.0 in c:\\users\\planel_f\\pybamm-supporting-material\\env\\lib\\site-packages (from ipykernel->jupyter->pybamm) (5.1.1)\n",
      "Requirement already satisfied: debugpy<2.0,>=1.0.0 in c:\\users\\planel_f\\pybamm-supporting-material\\env\\lib\\site-packages (from ipykernel->jupyter->pybamm) (1.5.1)\n",
      "Requirement already satisfied: tornado<7.0,>=4.2 in c:\\users\\planel_f\\pybamm-supporting-material\\env\\lib\\site-packages (from ipykernel->jupyter->pybamm) (6.1)\n",
      "Requirement already satisfied: widgetsnbextension~=3.6.0 in c:\\users\\planel_f\\pybamm-supporting-material\\env\\lib\\site-packages (from ipywidgets->jupyter->pybamm) (3.6.0)\n",
      "Requirement already satisfied: nbformat>=4.2.0 in c:\\users\\planel_f\\pybamm-supporting-material\\env\\lib\\site-packages (from ipywidgets->jupyter->pybamm) (5.2.0)\n",
      "Requirement already satisfied: ipython-genutils~=0.2.0 in c:\\users\\planel_f\\pybamm-supporting-material\\env\\lib\\site-packages (from ipywidgets->jupyter->pybamm) (0.2.0)\n",
      "Requirement already satisfied: jupyterlab-widgets>=1.0.0 in c:\\users\\planel_f\\pybamm-supporting-material\\env\\lib\\site-packages (from ipywidgets->jupyter->pybamm) (1.1.0)\n",
      "Requirement already satisfied: pygments in c:\\users\\planel_f\\pybamm-supporting-material\\env\\lib\\site-packages (from jupyter-console->jupyter->pybamm) (2.11.2)\n",
      "Requirement already satisfied: prompt-toolkit!=3.0.0,!=3.0.1,<3.1.0,>=2.0.0 in c:\\users\\planel_f\\pybamm-supporting-material\\env\\lib\\site-packages (from jupyter-console->jupyter->pybamm) (3.0.28)\n",
      "Requirement already satisfied: entrypoints>=0.2.2 in c:\\users\\planel_f\\pybamm-supporting-material\\env\\lib\\site-packages (from nbconvert->jupyter->pybamm) (0.4)\n",
      "Requirement already satisfied: nbclient<0.6.0,>=0.5.0 in c:\\users\\planel_f\\pybamm-supporting-material\\env\\lib\\site-packages (from nbconvert->jupyter->pybamm) (0.5.13)\n",
      "Requirement already satisfied: jupyter-core in c:\\users\\planel_f\\pybamm-supporting-material\\env\\lib\\site-packages (from nbconvert->jupyter->pybamm) (4.9.2)\n",
      "Requirement already satisfied: defusedxml in c:\\users\\planel_f\\pybamm-supporting-material\\env\\lib\\site-packages (from nbconvert->jupyter->pybamm) (0.7.1)\n",
      "Requirement already satisfied: bleach in c:\\users\\planel_f\\pybamm-supporting-material\\env\\lib\\site-packages (from nbconvert->jupyter->pybamm) (4.1.0)\n",
      "Requirement already satisfied: testpath in c:\\users\\planel_f\\pybamm-supporting-material\\env\\lib\\site-packages (from nbconvert->jupyter->pybamm) (0.6.0)\n",
      "Requirement already satisfied: jinja2>=2.4 in c:\\users\\planel_f\\pybamm-supporting-material\\env\\lib\\site-packages (from nbconvert->jupyter->pybamm) (3.0.3)\n",
      "Requirement already satisfied: jupyterlab-pygments in c:\\users\\planel_f\\pybamm-supporting-material\\env\\lib\\site-packages (from nbconvert->jupyter->pybamm) (0.1.2)\n",
      "Requirement already satisfied: pandocfilters>=1.4.1 in c:\\users\\planel_f\\pybamm-supporting-material\\env\\lib\\site-packages (from nbconvert->jupyter->pybamm) (1.5.0)\n",
      "Requirement already satisfied: mistune<2,>=0.8.1 in c:\\users\\planel_f\\pybamm-supporting-material\\env\\lib\\site-packages (from nbconvert->jupyter->pybamm) (0.8.4)\n",
      "Requirement already satisfied: beautifulsoup4 in c:\\users\\planel_f\\pybamm-supporting-material\\env\\lib\\site-packages (from nbconvert->jupyter->pybamm) (4.10.0)\n",
      "Requirement already satisfied: Send2Trash>=1.8.0 in c:\\users\\planel_f\\pybamm-supporting-material\\env\\lib\\site-packages (from notebook->jupyter->pybamm) (1.8.0)\n",
      "Requirement already satisfied: argon2-cffi in c:\\users\\planel_f\\pybamm-supporting-material\\env\\lib\\site-packages (from notebook->jupyter->pybamm) (21.3.0)\n",
      "Requirement already satisfied: pyzmq>=17 in c:\\users\\planel_f\\pybamm-supporting-material\\env\\lib\\site-packages (from notebook->jupyter->pybamm) (22.3.0)\n",
      "Requirement already satisfied: prometheus-client in c:\\users\\planel_f\\pybamm-supporting-material\\env\\lib\\site-packages (from notebook->jupyter->pybamm) (0.13.1)\n",
      "Requirement already satisfied: terminado>=0.8.3 in c:\\users\\planel_f\\pybamm-supporting-material\\env\\lib\\site-packages (from notebook->jupyter->pybamm) (0.9.5)\n",
      "Requirement already satisfied: qtpy in c:\\users\\planel_f\\pybamm-supporting-material\\env\\lib\\site-packages (from qtconsole->jupyter->pybamm) (2.0.1)\n",
      "Requirement already satisfied: pickleshare in c:\\users\\planel_f\\pybamm-supporting-material\\env\\lib\\site-packages (from ipython>=7.23.1->ipykernel->jupyter->pybamm) (0.7.5)\n",
      "Requirement already satisfied: colorama in c:\\users\\planel_f\\pybamm-supporting-material\\env\\lib\\site-packages (from ipython>=7.23.1->ipykernel->jupyter->pybamm) (0.4.4)\n",
      "Requirement already satisfied: backcall in c:\\users\\planel_f\\pybamm-supporting-material\\env\\lib\\site-packages (from ipython>=7.23.1->ipykernel->jupyter->pybamm) (0.2.0)\n",
      "Requirement already satisfied: setuptools>=18.5 in c:\\users\\planel_f\\pybamm-supporting-material\\env\\lib\\site-packages (from ipython>=7.23.1->ipykernel->jupyter->pybamm) (60.2.0)\n",
      "Requirement already satisfied: jedi>=0.16 in c:\\users\\planel_f\\pybamm-supporting-material\\env\\lib\\site-packages (from ipython>=7.23.1->ipykernel->jupyter->pybamm) (0.18.1)\n",
      "Requirement already satisfied: decorator in c:\\users\\planel_f\\pybamm-supporting-material\\env\\lib\\site-packages (from ipython>=7.23.1->ipykernel->jupyter->pybamm) (5.1.1)\n",
      "Requirement already satisfied: MarkupSafe>=2.0 in c:\\users\\planel_f\\pybamm-supporting-material\\env\\lib\\site-packages (from jinja2>=2.4->nbconvert->jupyter->pybamm) (2.1.1)\n",
      "Requirement already satisfied: pywin32>=1.0 in c:\\users\\planel_f\\pybamm-supporting-material\\env\\lib\\site-packages (from jupyter-core->nbconvert->jupyter->pybamm) (303)\n",
      "Requirement already satisfied: jsonschema!=2.5.0,>=2.4 in c:\\users\\planel_f\\pybamm-supporting-material\\env\\lib\\site-packages (from nbformat>=4.2.0->ipywidgets->jupyter->pybamm) (4.4.0)\n",
      "Requirement already satisfied: wcwidth in c:\\users\\planel_f\\pybamm-supporting-material\\env\\lib\\site-packages (from prompt-toolkit!=3.0.0,!=3.0.1,<3.1.0,>=2.0.0->jupyter-console->jupyter->pybamm) (0.2.5)\n",
      "Requirement already satisfied: pywinpty<1,>=0.5 in c:\\users\\planel_f\\pybamm-supporting-material\\env\\lib\\site-packages (from terminado>=0.8.3->notebook->jupyter->pybamm) (0.5.7)\n",
      "Requirement already satisfied: argon2-cffi-bindings in c:\\users\\planel_f\\pybamm-supporting-material\\env\\lib\\site-packages (from argon2-cffi->notebook->jupyter->pybamm) (21.2.0)\n",
      "Requirement already satisfied: soupsieve>1.2 in c:\\users\\planel_f\\pybamm-supporting-material\\env\\lib\\site-packages (from beautifulsoup4->nbconvert->jupyter->pybamm) (2.3.1)\n",
      "Requirement already satisfied: webencodings in c:\\users\\planel_f\\pybamm-supporting-material\\env\\lib\\site-packages (from bleach->nbconvert->jupyter->pybamm) (0.5.1)\n",
      "Requirement already satisfied: parso<0.9.0,>=0.8.0 in c:\\users\\planel_f\\pybamm-supporting-material\\env\\lib\\site-packages (from jedi>=0.16->ipython>=7.23.1->ipykernel->jupyter->pybamm) (0.8.3)\n",
      "Requirement already satisfied: importlib-resources>=1.4.0 in c:\\users\\planel_f\\pybamm-supporting-material\\env\\lib\\site-packages (from jsonschema!=2.5.0,>=2.4->nbformat>=4.2.0->ipywidgets->jupyter->pybamm) (5.4.0)\n",
      "Requirement already satisfied: importlib-metadata in c:\\users\\planel_f\\pybamm-supporting-material\\env\\lib\\site-packages (from jsonschema!=2.5.0,>=2.4->nbformat>=4.2.0->ipywidgets->jupyter->pybamm) (4.11.3)\n",
      "Requirement already satisfied: pyrsistent!=0.17.0,!=0.17.1,!=0.17.2,>=0.14.0 in c:\\users\\planel_f\\pybamm-supporting-material\\env\\lib\\site-packages (from jsonschema!=2.5.0,>=2.4->nbformat>=4.2.0->ipywidgets->jupyter->pybamm) (0.18.1)\n",
      "Requirement already satisfied: attrs>=17.4.0 in c:\\users\\planel_f\\pybamm-supporting-material\\env\\lib\\site-packages (from jsonschema!=2.5.0,>=2.4->nbformat>=4.2.0->ipywidgets->jupyter->pybamm) (21.4.0)\n",
      "Requirement already satisfied: cffi>=1.0.1 in c:\\users\\planel_f\\pybamm-supporting-material\\env\\lib\\site-packages (from argon2-cffi-bindings->argon2-cffi->notebook->jupyter->pybamm) (1.15.0)\n",
      "Requirement already satisfied: pycparser in c:\\users\\planel_f\\pybamm-supporting-material\\env\\lib\\site-packages (from cffi>=1.0.1->argon2-cffi-bindings->argon2-cffi->notebook->jupyter->pybamm) (2.21)\n",
      "Requirement already satisfied: zipp>=3.1.0 in c:\\users\\planel_f\\pybamm-supporting-material\\env\\lib\\site-packages (from importlib-resources>=1.4.0->jsonschema!=2.5.0,>=2.4->nbformat>=4.2.0->ipywidgets->jupyter->pybamm) (3.7.0)\n",
      "Note: you may need to restart the kernel to use updated packages.\n"
     ]
    },
    {
     "name": "stderr",
     "output_type": "stream",
     "text": [
      "WARNING: You are using pip version 21.3.1; however, version 22.0.4 is available.\n",
      "You should consider upgrading via the 'C:\\Users\\Planel_F\\pybamm-supporting-material\\env\\Scripts\\python.exe -m pip install --upgrade pip' command.\n"
     ]
    }
   ],
   "source": [
    "%pip install pybamm"
   ]
  },
  {
   "cell_type": "markdown",
   "id": "b60d2333",
   "metadata": {},
   "source": [
    "This might take a few minutes and will install PyBaMM and all the necessary dependencies in your computer, no matter if you use Windows, Linux or MacOs."
   ]
  },
  {
   "cell_type": "markdown",
   "id": "735cfd28",
   "metadata": {},
   "source": [
    "## Basic example\n",
    "\n",
    "PyBaMM includes the standard physics-based model for lithium-ion batteries, such as the Doyle-Fuller-Newman (DFN) model, also known as the Newman model or the pseudo-two-dimensional (P2D) model. This model can be solved with a few lines of code:"
   ]
  },
  {
   "cell_type": "code",
   "execution_count": 2,
   "id": "7dc84399",
   "metadata": {},
   "outputs": [
    {
     "data": {
      "application/vnd.jupyter.widget-view+json": {
       "model_id": "307422affa6948ddb385ed51addfad73",
       "version_major": 2,
       "version_minor": 0
      },
      "text/plain": [
       "interactive(children=(FloatSlider(value=0.0, description='t', max=1.0, step=0.01), Output()), _dom_classes=('w…"
      ]
     },
     "metadata": {},
     "output_type": "display_data"
    },
    {
     "data": {
      "text/plain": [
       "<pybamm.plotting.quick_plot.QuickPlot at 0x154330b0>"
      ]
     },
     "execution_count": 2,
     "metadata": {},
     "output_type": "execute_result"
    }
   ],
   "source": [
    "import pybamm\n",
    "\n",
    "model = pybamm.lithium_ion.DFN()\n",
    "sim = pybamm.Simulation(model)\n",
    "sim.solve([0, 3600])\n",
    "sim.plot()"
   ]
  },
  {
   "cell_type": "markdown",
   "id": "ed364e10",
   "metadata": {},
   "source": [
    "## Compare models\n",
    "\n",
    "PyBaMM also includes other standard models, such as the Single Particle Model (with and without electrolyte). Due to PyBaMM's structure, it is very easy to compare different models."
   ]
  },
  {
   "cell_type": "code",
   "execution_count": 3,
   "id": "ca0ffdd5",
   "metadata": {},
   "outputs": [
    {
     "data": {
      "application/vnd.jupyter.widget-view+json": {
       "model_id": "b4dd325439554b0a89c0c50177e3731e",
       "version_major": 2,
       "version_minor": 0
      },
      "text/plain": [
       "interactive(children=(FloatSlider(value=0.0, description='t', max=1.0, step=0.01), Output()), _dom_classes=('w…"
      ]
     },
     "metadata": {},
     "output_type": "display_data"
    },
    {
     "data": {
      "text/plain": [
       "<pybamm.plotting.quick_plot.QuickPlot at 0x17a37630>"
      ]
     },
     "execution_count": 3,
     "metadata": {},
     "output_type": "execute_result"
    }
   ],
   "source": [
    "models = [\n",
    "    pybamm.lithium_ion.SPM(),\n",
    "    pybamm.lithium_ion.SPMe(),\n",
    "    pybamm.lithium_ion.DFN(),\n",
    "]\n",
    "\n",
    "sims = []\n",
    "for model in models:\n",
    "    sim = pybamm.Simulation(model)\n",
    "    sim.solve([0, 3600])\n",
    "    sims.append(sim)\n",
    "    \n",
    "pybamm.dynamic_plot(sims)"
   ]
  },
  {
   "cell_type": "markdown",
   "id": "8ae5902a",
   "metadata": {},
   "source": [
    "## Change parameter values\n",
    "\n",
    "So far we have run the models with the default parameter sets, but PyBaMM includes various parameter sets for different chemistries. It also allows users to define their own parameter sets. For example, to use the parameters for NMC 811 and graphite-SiO$_x$ from Chen et al. (2020), we simply need to add an additional line of code."
   ]
  },
  {
   "cell_type": "code",
   "execution_count": 4,
   "id": "bfc4f0cb",
   "metadata": {},
   "outputs": [
    {
     "data": {
      "application/vnd.jupyter.widget-view+json": {
       "model_id": "dc9e2bdacb68464193ea4cefcff9d3ee",
       "version_major": 2,
       "version_minor": 0
      },
      "text/plain": [
       "interactive(children=(FloatSlider(value=0.0, description='t', max=3554.1817016740947, step=35.54181701674095),…"
      ]
     },
     "metadata": {},
     "output_type": "display_data"
    },
    {
     "data": {
      "text/plain": [
       "<pybamm.plotting.quick_plot.QuickPlot at 0x19684230>"
      ]
     },
     "execution_count": 4,
     "metadata": {},
     "output_type": "execute_result"
    }
   ],
   "source": [
    "model = pybamm.lithium_ion.DFN()\n",
    "parameter_values = pybamm.ParameterValues(\"Chen2020\")\n",
    "sim = pybamm.Simulation(model, parameter_values=parameter_values)\n",
    "sim.solve([0, 3600])\n",
    "sim.plot()"
   ]
  },
  {
   "cell_type": "markdown",
   "id": "26b1acef",
   "metadata": {},
   "source": [
    "Following open-science principles, PyBaMM provides a list of the references used for the different components of the code (e.g. model, parameters, numerical solvers...). Adding `pybamm.print_citations()` at the end of the script provides a list with all the relevant citations."
   ]
  },
  {
   "cell_type": "code",
   "execution_count": 5,
   "id": "c1c515ef",
   "metadata": {},
   "outputs": [
    {
     "name": "stdout",
     "output_type": "stream",
     "text": [
      "[1] Joel A. E. Andersson, Joris Gillis, Greg Horn, James B. Rawlings, and Moritz Diehl. CasADi – A software framework for nonlinear optimization and optimal control. Mathematical Programming Computation, 11(1):1–36, 2019. doi:10.1007/s12532-018-0139-4.\n",
      "[2] Chang-Hui Chen, Ferran Brosa Planella, Kieran O'Regan, Dominika Gastol, W. Dhammika Widanage, and Emma Kendrick. Development of Experimental Techniques for Parameterization of Multi-scale Lithium-ion Battery Models. Journal of The Electrochemical Society, 167(8):080534, 2020. doi:10.1149/1945-7111/ab9050.\n",
      "[3] Marc Doyle, Thomas F. Fuller, and John Newman. Modeling of galvanostatic charge and discharge of the lithium/polymer/insertion cell. Journal of the Electrochemical society, 140(6):1526–1533, 1993. doi:10.1149/1.2221597.\n",
      "[4] Charles R. Harris, K. Jarrod Millman, Stéfan J. van der Walt, Ralf Gommers, Pauli Virtanen, David Cournapeau, Eric Wieser, Julian Taylor, Sebastian Berg, Nathaniel J. Smith, and others. Array programming with NumPy. Nature, 585(7825):357–362, 2020. doi:10.1038/s41586-020-2649-2.\n",
      "[5] Scott G. Marquis, Valentin Sulzer, Robert Timms, Colin P. Please, and S. Jon Chapman. An asymptotic derivation of a single particle model with electrolyte. Journal of The Electrochemical Society, 166(15):A3693–A3706, 2019. doi:10.1149/2.0341915jes.\n",
      "[6] Valentin Sulzer, Scott G. Marquis, Robert Timms, Martin Robinson, and S. Jon Chapman. Python Battery Mathematical Modelling (PyBaMM). Journal of Open Research Software, 9(1):14, 2021. doi:10.5334/jors.309.\n",
      "\n"
     ]
    }
   ],
   "source": [
    "pybamm.print_citations()"
   ]
  },
  {
   "cell_type": "markdown",
   "id": "a1f5f9c9",
   "metadata": {},
   "source": [
    "For example, in this case we have Andersson et al. (2019) for the CasADI solver, Chen et al. (2020) for the parameter set, or Doyle et al. (1993) for the model."
   ]
  },
  {
   "cell_type": "markdown",
   "id": "a3c9c217",
   "metadata": {},
   "source": [
    "## Run experiments\n",
    "\n",
    "So far we have seen constant current discharges, but usually we want to simulate more complex cycles. This can be done using the `Experiment` class. The various steps of the experiment are defined in words and PyBaMM automatically assembles the correct model."
   ]
  },
  {
   "cell_type": "code",
   "execution_count": 6,
   "id": "bffe3e0c",
   "metadata": {},
   "outputs": [
    {
     "data": {
      "application/vnd.jupyter.widget-view+json": {
       "model_id": "ef681b2cd5534714b54b0312f69af184",
       "version_major": 2,
       "version_minor": 0
      },
      "text/plain": [
       "interactive(children=(FloatSlider(value=0.0, description='t', max=38.90905257815937, step=0.3890905257815937),…"
      ]
     },
     "metadata": {},
     "output_type": "display_data"
    },
    {
     "data": {
      "text/plain": [
       "<pybamm.plotting.quick_plot.QuickPlot at 0x6bf4290>"
      ]
     },
     "execution_count": 6,
     "metadata": {},
     "output_type": "execute_result"
    }
   ],
   "source": [
    "model = pybamm.lithium_ion.DFN()\n",
    "\n",
    "experiment = pybamm.Experiment(\n",
    "    [\n",
    "        (\"Discharge at C/10 for 10 hours or until 3.3 V\",\n",
    "        \"Rest for 1 hour\",\n",
    "        \"Charge at 1 A until 4.1 V\",\n",
    "        \"Hold at 4.1 V until 50 mA\",\n",
    "        \"Rest for 1 hour\"),\n",
    "    ] * 3\n",
    ")\n",
    "\n",
    "\n",
    "sim = pybamm.Simulation(model, experiment=experiment)\n",
    "sim.solve()\n",
    "sim.plot()"
   ]
  },
  {
   "cell_type": "markdown",
   "id": "699ecdab",
   "metadata": {},
   "source": [
    "This feature also allows to easily simulate drive cycles from data"
   ]
  },
  {
   "cell_type": "code",
   "execution_count": 7,
   "id": "d5195cdd",
   "metadata": {},
   "outputs": [
    {
     "data": {
      "application/vnd.jupyter.widget-view+json": {
       "model_id": "8e110bda59a845b28abd1da8a19316ef",
       "version_major": 2,
       "version_minor": 0
      },
      "text/plain": [
       "interactive(children=(FloatSlider(value=0.0, description='t', max=1200.0, step=12.0), Output()), _dom_classes=…"
      ]
     },
     "metadata": {},
     "output_type": "display_data"
    },
    {
     "data": {
      "text/plain": [
       "<pybamm.plotting.quick_plot.QuickPlot at 0x1ae5e390>"
      ]
     },
     "execution_count": 7,
     "metadata": {},
     "output_type": "execute_result"
    }
   ],
   "source": [
    "import pandas as pd\n",
    "\n",
    "model = pybamm.lithium_ion.SPMe()\n",
    "\n",
    "# import drive cycle from file\n",
    "US06 = pd.read_csv(\"US06.csv\", comment=\"#\", header=None).to_numpy()\n",
    "\n",
    "experiment = pybamm.Experiment(\n",
    "    [\n",
    "        \"Run US06 (A) for 5 minutes\",\n",
    "        \"Rest for 5 minutes\",\n",
    "        \"Run US06 (A) for 10 minutes\",\n",
    "    ],\n",
    "    drive_cycles={\"US06\": US06}\n",
    ")\n",
    "\n",
    "\n",
    "sim = pybamm.Simulation(model, experiment=experiment)\n",
    "sim.solve()\n",
    "sim.plot()"
   ]
  },
  {
   "cell_type": "markdown",
   "id": "75fdd46f",
   "metadata": {},
   "source": [
    "## Thermal models\n",
    "\n",
    "Show different thermal model options:\n",
    "* Pouch\n",
    "* Lumped"
   ]
  },
  {
   "cell_type": "code",
   "execution_count": null,
   "id": "bd2bb0f6",
   "metadata": {},
   "outputs": [],
   "source": []
  },
  {
   "cell_type": "markdown",
   "id": "7c8d36e6",
   "metadata": {},
   "source": [
    "## Degradation models\n",
    "\n",
    "PyBaMM allows to add degradation effects on top of the electrochemical models. There are multiple degradation models corresponding to various effects:\n",
    "\n",
    "* SEI: reaction, solvent-diffusion limited, electron-migration limited, interstitial-diffusion limited, ec reaction limited...\n",
    "* Lithium plating: irreversible and reversible\n",
    "* Mechanics"
   ]
  },
  {
   "cell_type": "code",
   "execution_count": 8,
   "id": "b4939329",
   "metadata": {},
   "outputs": [
    {
     "data": {
      "image/png": "[encoded data removed]",
      "text/plain": [
       "<Figure size 1080x288 with 3 Axes>"
      ]
     },
     "metadata": {
      "needs_background": "light"
     },
     "output_type": "display_data"
    },
    {
     "data": {
      "text/plain": [
       "array([<AxesSubplot:xlabel='Cycle number', ylabel='Capacity [A.h]'>,\n",
       "       <AxesSubplot:xlabel='Cycle number', ylabel='Loss of lithium inventory [%]'>,\n",
       "       <AxesSubplot:xlabel='Cycle number', ylabel='Loss of capacity to SEI [A.h]'>],\n",
       "      dtype=object)"
      ]
     },
     "execution_count": 8,
     "metadata": {},
     "output_type": "execute_result"
    }
   ],
   "source": [
    "model = pybamm.lithium_ion.SPM({\"SEI\": \"ec reaction limited\"})\n",
    "\n",
    "parameter_values = pybamm.ParameterValues(\"Mohtat2020\")\n",
    "parameter_values.update({\"SEI kinetic rate constant [m.s-1]\": 1e-14})\n",
    "\n",
    "experiment = pybamm.Experiment(\n",
    "    [(\"Discharge at 1C until 3 V\",\n",
    "     \"Rest for 1 hour\",\n",
    "     \"Charge at 1C until 4.2 V\", \n",
    "     \"Hold at 4.2 V until C/50\")] * 500,\n",
    "    termination=\"80% capacity\"\n",
    ")\n",
    "\n",
    "sim = pybamm.Simulation(model, experiment=experiment, parameter_values=parameter_values)\n",
    "sol = sim.solve(initial_soc=1)\n",
    "\n",
    "pybamm.plot_summary_variables(\n",
    "    sol, \n",
    "    output_variables=[\"Capacity [A.h]\", \"Loss of lithium inventory [%]\", \"Loss of capacity to SEI [A.h]\"],\n",
    "    figsize=(15,4)\n",
    ")"
   ]
  },
  {
   "cell_type": "markdown",
   "id": "310dc29a",
   "metadata": {},
   "source": [
    "## Particle size distributions\n",
    "\n",
    "Show some examples of PSD models ?"
   ]
  },
  {
   "cell_type": "code",
   "execution_count": null,
   "id": "384e17fb",
   "metadata": {},
   "outputs": [],
   "source": []
  },
  {
   "cell_type": "markdown",
   "id": "1db8e031",
   "metadata": {},
   "source": [
    "## liionpack example?\n",
    "\n",
    "Do we want to show a small example of liionpack?"
   ]
  },
  {
   "cell_type": "code",
   "execution_count": 9,
   "id": "34b5d1d0",
   "metadata": {},
   "outputs": [
    {
     "name": "stdout",
     "output_type": "stream",
     "text": [
      "Collecting liionpackNote: you may need to restart the kernel to use updated packages.\n",
      "  Using cached liionpack-0.3-py3-none-any.whl (28 kB)\n",
      "Collecting tqdm\n",
      "  Using cached tqdm-4.63.0-py2.py3-none-any.whl (76 kB)\n",
      "Requirement already satisfied: scipy in c:\\users\\planel_f\\pybamm-supporting-material\\env\\lib\\site-packages (from liionpack) (1.7.3)\n",
      "Requirement already satisfied: numpy in c:\\users\\planel_f\\pybamm-supporting-material\\env\\lib\\site-packages (from liionpack) (1.21.5)\n",
      "Collecting dask[complete]\n",
      "  Using cached dask-2022.2.0-py3-none-any.whl (1.1 MB)\n",
      "Collecting plotly\n",
      "  Using cached plotly-5.6.0-py2.py3-none-any.whl (27.7 MB)\n",
      "\n"
     ]
    },
    {
     "name": "stderr",
     "output_type": "stream",
     "text": [
      "ERROR: Could not find a version that satisfies the requirement ray (from liionpack) (from versions: none)\n",
      "ERROR: No matching distribution found for ray\n",
      "WARNING: You are using pip version 21.3.1; however, version 22.0.4 is available.\n",
      "You should consider upgrading via the 'C:\\Users\\Planel_F\\pybamm-supporting-material\\env\\Scripts\\python.exe -m pip install --upgrade pip' command.\n"
     ]
    },
    {
     "name": "stdout",
     "output_type": "stream",
     "text": [
      "Collecting openpyxl\n",
      "  Using cached openpyxl-3.0.9-py2.py3-none-any.whl (242 kB)\n",
      "Collecting lcapy\n",
      "  Downloading lcapy-1.4-py3-none-any.whl (360 kB)\n",
      "Collecting scikit-spatial\n",
      "  Using cached scikit_spatial-6.3.0-py3-none-any.whl (44 kB)\n",
      "Requirement already satisfied: pybamm in c:\\users\\planel_f\\pybamm-supporting-material\\env\\lib\\site-packages (from liionpack) (22.2)\n",
      "Requirement already satisfied: pandas in c:\\users\\planel_f\\pybamm-supporting-material\\env\\lib\\site-packages (from liionpack) (1.3.5)\n",
      "Collecting networkx\n",
      "  Downloading networkx-2.6.3-py3-none-any.whl (1.9 MB)\n",
      "Requirement already satisfied: Ipython in c:\\users\\planel_f\\pybamm-supporting-material\\env\\lib\\site-packages (from liionpack) (7.32.0)\n",
      "Collecting textwrapper\n",
      "  Downloading textwrapper-1.0.2-py3-none-any.whl (3.4 kB)\n"
     ]
    }
   ],
   "source": [
    "%pip install liionpack"
   ]
  },
  {
   "cell_type": "code",
   "execution_count": 11,
   "id": "1b49c00f",
   "metadata": {},
   "outputs": [
    {
     "ename": "ModuleNotFoundError",
     "evalue": "No module named 'liionpack'",
     "output_type": "error",
     "traceback": [
      "\u001b[1;31m---------------------------------------------------------------------------\u001b[0m",
      "\u001b[1;31mModuleNotFoundError\u001b[0m                       Traceback (most recent call last)",
      "\u001b[1;32m~\\AppData\\Local\\Temp\\ipykernel_11628\\4032217341.py\u001b[0m in \u001b[0;36m<module>\u001b[1;34m\u001b[0m\n\u001b[1;32m----> 1\u001b[1;33m \u001b[1;32mimport\u001b[0m \u001b[0mliionpack\u001b[0m \u001b[1;32mas\u001b[0m \u001b[0mlp\u001b[0m\u001b[1;33m\u001b[0m\u001b[1;33m\u001b[0m\u001b[0m\n\u001b[0m\u001b[0;32m      2\u001b[0m \u001b[1;32mimport\u001b[0m \u001b[0mnumpy\u001b[0m \u001b[1;32mas\u001b[0m \u001b[0mnp\u001b[0m\u001b[1;33m\u001b[0m\u001b[1;33m\u001b[0m\u001b[0m\n\u001b[0;32m      3\u001b[0m \u001b[1;32mimport\u001b[0m \u001b[0mos\u001b[0m\u001b[1;33m\u001b[0m\u001b[1;33m\u001b[0m\u001b[0m\n\u001b[0;32m      4\u001b[0m \u001b[1;33m\u001b[0m\u001b[0m\n\u001b[0;32m      5\u001b[0m \u001b[1;31m# Generate the netlist\u001b[0m\u001b[1;33m\u001b[0m\u001b[1;33m\u001b[0m\u001b[1;33m\u001b[0m\u001b[0m\n",
      "\u001b[1;31mModuleNotFoundError\u001b[0m: No module named 'liionpack'"
     ]
    }
   ],
   "source": [
    "import liionpack as lp\n",
    "import numpy as np\n",
    "import os\n",
    "\n",
    "# Generate the netlist\n",
    "netlist = lp.setup_circuit(Np=16, Ns=2)\n",
    "\n",
    "# Define additional output variables\n",
    "output_variables = ['Volume-averaged cell temperature [K]']\n",
    "\n",
    "# Define a cycling experiment using PyBaMM\n",
    "experiment = pybamm.Experiment([\n",
    "    'Charge at 20 A for 30 minutes',\n",
    "    'Rest for 15 minutes',\n",
    "    'Discharge at 20 A for 30 minutes',\n",
    "    'Rest for 30 minutes'],\n",
    "    period='10 seconds')\n",
    "\n",
    "# Define the PyBaMM parameters\n",
    "parameter_values = pybamm.ParameterValues(chemistry=\"Chen2020\")\n",
    "inputs = {\"Total heat transfer coefficient [W.m-2.K-1]\": np.ones(Np * Ns) * 10}\n",
    "\n",
    "# Solve the pack\n",
    "output = lp.solve(netlist=netlist,\n",
    "                  sim_func=lp.thermal_simulation,\n",
    "                  parameter_values=parameter_values,\n",
    "                  experiment=experiment,\n",
    "                  output_variables=output_variables,\n",
    "                  initial_soc=0.5,\n",
    "                  inputs=inputs,\n",
    "                  nproc=os.cpu_count(),\n",
    "                  manager='casadi')\n",
    "\n",
    "# Plot the pack and individual cell results\n",
    "lp.plot_pack(output)\n",
    "lp.plot_cells(output)\n",
    "lp.show_plots()"
   ]
  },
  {
   "cell_type": "code",
   "execution_count": null,
   "id": "23105d3e",
   "metadata": {},
   "outputs": [],
   "source": []
  }
 ],
 "metadata": {
  "kernelspec": {
   "display_name": "Python 3 (ipykernel)",
   "language": "python",
   "name": "python3"
  },
  "language_info": {
   "codemirror_mode": {
    "name": "ipython",
    "version": 3
   },
   "file_extension": ".py",
   "mimetype": "text/x-python",
   "name": "python",
   "nbconvert_exporter": "python",
   "pygments_lexer": "ipython3",
   "version": "3.7.3"
  }
 },
 "nbformat": 4,
 "nbformat_minor": 5
}
