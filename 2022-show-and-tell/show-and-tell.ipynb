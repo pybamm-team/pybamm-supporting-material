{
 "cells": [
  {
   "cell_type": "markdown",
   "id": "10e22a64",
   "metadata": {},
   "source": [
    "# PyBaMM show and tell\n",
    "\n",
    "PyBaMM is an open-source package to simulate physics-based models for lithium-ion batteries using state-of-the-art techniques.  The package is built on Python, and provides a flexible platform for implementation and comparison of new models and numerical methods, and an easy interaction with other Python packages. PyBaMM includes a broad range of standard and cutting-edge models for lithium-ion batteries including electrochemical, thermal and degradation effects.\n",
    "\n",
    "PyBaMM can easily be installed from Python Package Index (PyPI) with a single line of code in your terminal:"
   ]
  },
  {
   "cell_type": "code",
   "execution_count": null,
   "id": "ecb5dac3",
   "metadata": {},
   "outputs": [],
   "source": [
    "%pip install pybamm"
   ]
  },
  {
   "cell_type": "markdown",
   "id": "b60d2333",
   "metadata": {},
   "source": [
    "This might take a few minutes and will install PyBaMM and all the necessary dependencies in your computer, no matter if you use Windows, Linux or MacOs."
   ]
  },
  {
   "cell_type": "markdown",
   "id": "735cfd28",
   "metadata": {},
   "source": [
    "## Basic example\n",
    "\n",
    "PyBaMM includes the standard physics-based model for lithium-ion batteries, such as the Doyle-Fuller-Newman (DFN) model, also known as the Newman model or the pseudo-two-dimensional (P2D) model. This model can be solved with a few lines of code:"
   ]
  },
  {
   "cell_type": "code",
   "execution_count": null,
   "id": "7dc84399",
   "metadata": {},
   "outputs": [],
   "source": [
    "import pybamm\n",
    "\n",
    "model = pybamm.lithium_ion.DFN()\n",
    "sim = pybamm.Simulation(model)\n",
    "sim.solve([0, 3600])\n",
    "sim.plot()"
   ]
  },
  {
   "cell_type": "markdown",
   "id": "ed364e10",
   "metadata": {},
   "source": [
    "## Compare models\n",
    "\n",
    "PyBaMM also includes other standard models, such as the Single Particle Model (with and without electrolyte). Due to PyBaMM's structure, it is very easy to compare different models."
   ]
  },
  {
   "cell_type": "code",
   "execution_count": null,
   "id": "ca0ffdd5",
   "metadata": {},
   "outputs": [],
   "source": [
    "models = [\n",
    "    pybamm.lithium_ion.SPM(),\n",
    "    pybamm.lithium_ion.SPMe(),\n",
    "    pybamm.lithium_ion.DFN(),\n",
    "]\n",
    "\n",
    "sims = []\n",
    "for model in models:\n",
    "    sim = pybamm.Simulation(model)\n",
    "    sim.solve([0, 3600])\n",
    "    sims.append(sim)\n",
    "    \n",
    "pybamm.dynamic_plot(sims)"
   ]
  },
  {
   "cell_type": "markdown",
   "id": "8ae5902a",
   "metadata": {},
   "source": [
    "## Change parameter values\n",
    "\n",
    "So far we have run the models with the default parameter sets, but PyBaMM includes various parameter sets for different chemistries. It also allows users to define their own parameter sets. For example, to use the parameters for NMC 811 and graphite-SiO$_x$ from Chen et al. (2020), we simply need to add an additional line of code."
   ]
  },
  {
   "cell_type": "code",
   "execution_count": null,
   "id": "bfc4f0cb",
   "metadata": {},
   "outputs": [],
   "source": [
    "model = pybamm.lithium_ion.DFN()\n",
    "parameter_values = pybamm.ParameterValues(\"Chen2020\")\n",
    "sim = pybamm.Simulation(model, parameter_values=parameter_values)\n",
    "sim.solve([0, 3600])\n",
    "sim.plot()"
   ]
  },
  {
   "cell_type": "markdown",
   "id": "26b1acef",
   "metadata": {},
   "source": [
    "Following open-science principles, PyBaMM provides a list of the references used for the different components of the code (e.g. model, parameters, numerical solvers...). Adding `pybamm.print_citations()` at the end of the script provides a list with all the relevant citations."
   ]
  },
  {
   "cell_type": "code",
   "execution_count": null,
   "id": "c1c515ef",
   "metadata": {},
   "outputs": [],
   "source": [
    "pybamm.print_citations()"
   ]
  },
  {
   "cell_type": "markdown",
   "id": "a1f5f9c9",
   "metadata": {},
   "source": [
    "For example, in this case we have Andersson et al. (2019) for the CasADI solver, Chen et al. (2020) for the parameter set, or Doyle et al. (1993) for the model."
   ]
  },
  {
   "cell_type": "markdown",
   "id": "a3c9c217",
   "metadata": {},
   "source": [
    "## Run experiments\n",
    "\n",
    "So far we have seen constant current discharges, but usually we want to simulate more complex cycles. This can be done using the `Experiment` class. The various steps of the experiment are defined in words and PyBaMM automatically assembles the correct model."
   ]
  },
  {
   "cell_type": "code",
   "execution_count": null,
   "id": "bffe3e0c",
   "metadata": {},
   "outputs": [],
   "source": [
    "model = pybamm.lithium_ion.DFN()\n",
    "\n",
    "experiment = pybamm.Experiment(\n",
    "    [\n",
    "        (\"Discharge at C/10 for 10 hours or until 3.3 V\",\n",
    "        \"Rest for 1 hour\",\n",
    "        \"Charge at 1 A until 4.1 V\",\n",
    "        \"Hold at 4.1 V until 50 mA\",\n",
    "        \"Rest for 1 hour\"),\n",
    "    ] * 3\n",
    ")\n",
    "\n",
    "\n",
    "sim = pybamm.Simulation(model, experiment=experiment)\n",
    "sim.solve()\n",
    "sim.plot()"
   ]
  },
  {
   "cell_type": "markdown",
   "id": "699ecdab",
   "metadata": {},
   "source": [
    "This feature also allows to easily simulate drive cycles from data"
   ]
  },
  {
   "cell_type": "code",
   "execution_count": null,
   "id": "d5195cdd",
   "metadata": {},
   "outputs": [],
   "source": [
    "import pandas as pd\n",
    "\n",
    "model = pybamm.lithium_ion.SPMe()\n",
    "\n",
    "# import drive cycle from file\n",
    "US06 = pd.read_csv(\"US06.csv\", comment=\"#\", header=None).to_numpy()\n",
    "\n",
    "experiment = pybamm.Experiment(\n",
    "    [\n",
    "        \"Run US06 (A) for 5 minutes\",\n",
    "        \"Rest for 5 minutes\",\n",
    "        \"Run US06 (A) for 10 minutes\",\n",
    "    ],\n",
    "    drive_cycles={\"US06\": US06}\n",
    ")\n",
    "\n",
    "\n",
    "sim = pybamm.Simulation(model, experiment=experiment)\n",
    "sim.solve()\n",
    "sim.plot()"
   ]
  },
  {
   "cell_type": "markdown",
   "id": "75fdd46f",
   "metadata": {},
   "source": [
    "## Thermal models\n",
    "\n",
    "There are a number of thermal submodels available in PyBaMM: at present it includes a lumped thermal model, a 1D thermal model which accounts for the through-cell variation in temperature, and a 2D pouch cell model which assumed the temperature is uniform through the thickness of the pouch, but accounts for variations in temperature in the remaining two dimensions.\n",
    "\n",
    "### Lumped models\n",
    "Lumped models calculate the average cell temperature rather than its spatial distribution, but at a very low computational cost."
   ]
  },
  {
   "cell_type": "code",
   "execution_count": null,
   "id": "bd2bb0f6",
   "metadata": {},
   "outputs": [],
   "source": [
    "models = [\n",
    "    pybamm.lithium_ion.DFN(\n",
    "        options={\"cell geometry\": \"pouch\", \"thermal\": \"lumped\"},\n",
    "        name=\"Tab cooled\",\n",
    "    ),\n",
    "    pybamm.lithium_ion.DFN(\n",
    "        options={\"cell geometry\": \"arbitrary\", \"thermal\": \"lumped\"},\n",
    "        name=\"Surface cooled\",\n",
    "    )\n",
    "]\n",
    "\n",
    "sims = []\n",
    "\n",
    "for model in models:\n",
    "    sim = pybamm.Simulation(model, C_rate=3)\n",
    "    sim.solve([0, 1000])\n",
    "    sims.append(sim)\n",
    "    \n",
    "pybamm.dynamic_plot(\n",
    "    sims, \n",
    "    [\n",
    "        \"Volume-averaged cell temperature [K]\", \n",
    "        \"Volume-averaged total heating [W.m-3]\", \n",
    "        \"Current [A]\", \n",
    "        \"Terminal voltage [V]\"\n",
    "    ],\n",
    ")"
   ]
  },
  {
   "cell_type": "markdown",
   "id": "908ed63c",
   "metadata": {},
   "source": [
    "### 1D (through-cell) model\n",
    "\n",
    "The 1D model captures temperature variations through the thickness of the cell"
   ]
  },
  {
   "cell_type": "code",
   "execution_count": null,
   "id": "9cec5558",
   "metadata": {},
   "outputs": [],
   "source": [
    "model = pybamm.lithium_ion.DFN(options={\"thermal\": \"x-full\"})\n",
    "\n",
    "params = pybamm.ParameterValues(\"Marquis2019\")\n",
    "\n",
    "params.update({\n",
    "    \"Negative current collector surface heat transfer coefficient [W.m-2.K-1]\": 1000,  \n",
    "    \"Positive current collector surface heat transfer coefficient [W.m-2.K-1]\": 1000,  \n",
    "    \"Negative tab heat transfer coefficient [W.m-2.K-1]\": 200,  \n",
    "    \"Positive tab heat transfer coefficient [W.m-2.K-1]\": 200,  \n",
    "    \"Edge heat transfer coefficient [W.m-2.K-1]\": 200,\n",
    "    \"Total heat transfer coefficient [W.m-2.K-1]\": 200,\n",
    "})\n",
    "\n",
    "sim = pybamm.Simulation(model, parameter_values=params, C_rate=5)\n",
    "sim.solve([0, 1000])\n",
    "sim.plot(output_variables=[\n",
    "        \"Cell temperature [K]\", \n",
    "        \"Volume-averaged total heating [W.m-3]\", \n",
    "        \"Current [A]\", \n",
    "        \"Terminal voltage [V]\"\n",
    "    ])"
   ]
  },
  {
   "cell_type": "markdown",
   "id": "aa1ddea8",
   "metadata": {},
   "source": [
    "### 2D pouch cell models\n",
    "\n"
   ]
  },
  {
   "cell_type": "code",
   "execution_count": null,
   "id": "2d18a55e",
   "metadata": {},
   "outputs": [],
   "source": [
    "# TODO\n",
    "# See https://github.com/pybamm-team/PyBaMM/blob/develop/examples/notebooks/models/pouch-cell-model.ipynb\n",
    "# or https://github.com/rtimms/asymptotic-pouch-cell\n",
    "# or https://github.com/rtimms/pouch-bench"
   ]
  },
  {
   "cell_type": "markdown",
   "id": "7c8d36e6",
   "metadata": {},
   "source": [
    "## Degradation models\n",
    "\n",
    "PyBaMM allows to add degradation effects on top of the electrochemical (and thermal) models. There are multiple degradation models corresponding to various effects:\n",
    "\n",
    "* **SEI:** reaction, solvent-diffusion limited, electron-migration limited, interstitial-diffusion limited, and ec reaction limited.\n",
    "* **Lithium plating:** irreversible and reversible.\n",
    "* **Mechanics:** particle expansion and cracking.\n",
    "\n",
    "It is also straightforward to combine multiple mechanisms.\n",
    "\n",
    "\n",
    "### SEI growth and lithium plating"
   ]
  },
  {
   "cell_type": "code",
   "execution_count": null,
   "id": "b4939329",
   "metadata": {},
   "outputs": [],
   "source": [
    "model = pybamm.lithium_ion.SPM({\"SEI\": \"ec reaction limited\", \"lithium plating\": \"irreversible\"})\n",
    "\n",
    "parameter_values = pybamm.ParameterValues(\"Mohtat2020\")\n",
    "parameter_values.update({\"SEI kinetic rate constant [m.s-1]\": 1e-14})\n",
    "\n",
    "experiment = pybamm.Experiment(\n",
    "    [(\"Discharge at 1C until 3 V\",\n",
    "     \"Rest for 1 hour\",\n",
    "     \"Charge at 1C until 4.2 V\", \n",
    "     \"Hold at 4.2 V until C/50\")] * 500,\n",
    "    termination=\"80% capacity\"\n",
    ")\n",
    "\n",
    "sim = pybamm.Simulation(model, experiment=experiment, parameter_values=parameter_values)\n",
    "sol = sim.solve(initial_soc=1)\n",
    "\n",
    "pybamm.plot_summary_variables(\n",
    "    sol, \n",
    "    output_variables=[\"Capacity [A.h]\", \"Loss of lithium inventory [%]\", \"Loss of capacity to SEI [A.h]\", \"Loss of capacity to lithium plating [A.h]\"],\n",
    "    figsize=(15,8)\n",
    ")"
   ]
  },
  {
   "cell_type": "markdown",
   "id": "f506fe06",
   "metadata": {},
   "source": [
    "### Cracking and loss of active material"
   ]
  },
  {
   "cell_type": "code",
   "execution_count": null,
   "id": "39ba52e7",
   "metadata": {},
   "outputs": [],
   "source": [
    "model = pybamm.lithium_ion.DFN(\n",
    "    options=\n",
    "    {\n",
    "        \"particle\": \"Fickian diffusion\", \n",
    "        \"particle mechanics\":\"swelling and cracking\",\n",
    "        \"loss of active material\":\"stress-driven\",\n",
    "    }\n",
    ")\n",
    "param = pybamm.ParameterValues(\"Ai2020\")\n",
    "param.update({\n",
    "    \"Negative electrode LAM constant proportional term [s-1]\": 1e-2/3600,\n",
    "    \"Positive electrode LAM constant proportional term [s-1]\": 1e-2/3600,\n",
    "})\n",
    "\n",
    "experiment = pybamm.Experiment(\n",
    "    [\n",
    "        \"Discharge at 1C until 3 V\",\n",
    "        \"Rest for 600 seconds\",\n",
    "        \"Charge at 1C until 4.2 V\",\n",
    "        \"Hold at 4.199 V for 600 seconds\",\n",
    "    ] * 4\n",
    ")\n",
    "sim = pybamm.Simulation(model, experiment=experiment, parameter_values=param, solver=pybamm.CasadiSolver(\"fast with events\"))\n",
    "sim.solve(calc_esoh=False)\n",
    "sim.plot(output_variables=[\n",
    "    \"X-averaged negative electrode surface area to volume ratio\",\n",
    "    \"Negative particle crack length\",\n",
    "    \"X-averaged negative particle crack length\",\n",
    "    \"Current [A]\",\n",
    "    \"X-averaged positive electrode surface area to volume ratio\",\n",
    "    \"Positive particle crack length\",\n",
    "    \"X-averaged positive particle crack length\",\n",
    "    \"Terminal voltage [V]\",\n",
    "])"
   ]
  },
  {
   "cell_type": "markdown",
   "id": "310dc29a",
   "metadata": {},
   "source": [
    "## Particle size distributions\n"
   ]
  },
  {
   "cell_type": "code",
   "execution_count": null,
   "id": "384e17fb",
   "metadata": {},
   "outputs": [],
   "source": [
    "model = pybamm.lithium_ion.DFN(options={\"particle size\": \"distribution\"})\n",
    "\n",
    "params = pybamm.ParameterValues(\"Marquis2019\")\n",
    "params = pybamm.get_size_distribution_parameters(params)\n",
    "\n",
    "solver = pybamm.CasadiSolver(mode=\"fast\")\n",
    "sim = pybamm.Simulation(model, parameter_values=params, solver=solver)\n",
    "\n",
    "sim.solve(t_eval=[0, 3500])\n",
    "\n",
    "output_variables = [\n",
    "    \"Negative particle surface concentration distribution\",\n",
    "    \"Positive particle surface concentration distribution\",\n",
    "    \"X-averaged negative particle surface concentration distribution\",\n",
    "    \"Negative area-weighted particle-size distribution\",\n",
    "    \"Positive area-weighted particle-size distribution\",\n",
    "    \"Terminal voltage [V]\",\n",
    "]\n",
    "\n",
    "sim.plot(output_variables=[\n",
    "    \"Negative particle surface concentration distribution\",\n",
    "    \"Positive particle surface concentration distribution\",\n",
    "    \"X-averaged negative particle surface concentration distribution\",\n",
    "    \"Negative area-weighted particle-size distribution\",\n",
    "    \"Positive area-weighted particle-size distribution\",\n",
    "    \"Terminal voltage [V]\",\n",
    "])"
   ]
  },
  {
   "cell_type": "markdown",
   "id": "1db8e031",
   "metadata": {},
   "source": [
    "## liionpack: simulating battery packs\n",
    "\n",
    "Show a small example of liionpack"
   ]
  },
  {
   "cell_type": "code",
   "execution_count": null,
   "id": "34b5d1d0",
   "metadata": {},
   "outputs": [],
   "source": [
    "%pip install liionpack"
   ]
  },
  {
   "cell_type": "code",
   "execution_count": null,
   "id": "1b49c00f",
   "metadata": {},
   "outputs": [],
   "source": [
    "import liionpack as lp\n",
    "import numpy as np\n",
    "import os\n",
    "\n",
    "Np = 16\n",
    "Ns = 2\n",
    "# Generate the netlist\n",
    "netlist = lp.setup_circuit(Np=Np, Ns=Ns)\n",
    "\n",
    "# Define additional output variables\n",
    "output_variables = ['Volume-averaged cell temperature [K]']\n",
    "\n",
    "# Define a cycling experiment using PyBaMM\n",
    "experiment = pybamm.Experiment([\n",
    "    'Charge at 20 A for 30 minutes',\n",
    "    'Rest for 15 minutes',\n",
    "    'Discharge at 20 A for 30 minutes',\n",
    "    'Rest for 30 minutes'],\n",
    "    period='10 seconds')\n",
    "\n",
    "# Define the PyBaMM parameters\n",
    "parameter_values = pybamm.ParameterValues(chemistry=\"Chen2020\")\n",
    "inputs = {\"Total heat transfer coefficient [W.m-2.K-1]\": np.ones(Np * Ns) * 10}\n",
    "\n",
    "# Solve the pack\n",
    "output = lp.solve(netlist=netlist,\n",
    "                  sim_func=lp.thermal_simulation,\n",
    "                  parameter_values=parameter_values,\n",
    "                  experiment=experiment,\n",
    "                  output_variables=output_variables,\n",
    "                  initial_soc=0.5,\n",
    "                  inputs=inputs,\n",
    "                  nproc=os.cpu_count(),\n",
    "                  manager='casadi')\n",
    "\n",
    "# Plot the pack and individual cell results\n",
    "lp.plot_pack(output)\n",
    "lp.plot_cells(output)\n",
    "lp.show_plots()"
   ]
  },
  {
   "cell_type": "code",
   "execution_count": null,
   "id": "23105d3e",
   "metadata": {},
   "outputs": [],
   "source": []
  }
 ],
 "metadata": {
  "kernelspec": {
   "display_name": "Python 3",
   "language": "python",
   "name": "python3"
  },
  "language_info": {
   "codemirror_mode": {
    "name": "ipython",
    "version": 3
   },
   "file_extension": ".py",
   "mimetype": "text/x-python",
   "name": "python",
   "nbconvert_exporter": "python",
   "pygments_lexer": "ipython3",
   "version": "3.8.13"
  }
 },
 "nbformat": 4,
 "nbformat_minor": 5
}
