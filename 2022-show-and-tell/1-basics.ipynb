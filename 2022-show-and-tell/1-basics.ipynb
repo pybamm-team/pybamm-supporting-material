{
 "cells": [
  {
   "cell_type": "markdown",
   "id": "10e22a64",
   "metadata": {},
   "source": [
    "# PyBaMM \"show and tell\"\n",
    "\n",
    "PyBaMM is an open-source package to simulate physics-based models for lithium-ion batteries using state-of-the-art techniques.  The package is built on Python, and provides a flexible platform for implementation and comparison of new models and numerical methods, and an easy interaction with other Python packages. PyBaMM includes a broad range of standard and cutting-edge models for lithium-ion batteries including electrochemical, thermal and degradation effects."
   ]
  },
  {
   "cell_type": "markdown",
   "id": "735cfd28",
   "metadata": {},
   "source": [
    "## Basic example\n",
    "\n",
    "PyBaMM includes the standard physics-based model for lithium-ion batteries, such as the Doyle-Fuller-Newman (DFN) model, also known as the Newman model or the pseudo-two-dimensional (P2D) model. This model can be solved with a few lines of code:"
   ]
  },
  {
   "cell_type": "code",
   "execution_count": null,
   "id": "7dc84399",
   "metadata": {},
   "outputs": [],
   "source": [
    "import pybamm\n",
    "\n",
    "model = pybamm.lithium_ion.DFN()\n",
    "sim = pybamm.Simulation(model)\n",
    "sim.solve([0, 3600])\n",
    "sim.plot()"
   ]
  },
  {
   "cell_type": "markdown",
   "id": "ed364e10",
   "metadata": {},
   "source": [
    "## Compare models\n",
    "\n",
    "PyBaMM also includes other standard models, such as the Single Particle Model (with and without electrolyte). Due to PyBaMM's structure, it is very easy to compare different models."
   ]
  },
  {
   "cell_type": "code",
   "execution_count": null,
   "id": "ca0ffdd5",
   "metadata": {},
   "outputs": [],
   "source": [
    "models = [\n",
    "    pybamm.lithium_ion.SPM(),\n",
    "    pybamm.lithium_ion.SPMe(),\n",
    "    pybamm.lithium_ion.DFN(),\n",
    "]\n",
    "\n",
    "sims = []\n",
    "for model in models:\n",
    "    sim = pybamm.Simulation(model)\n",
    "    sim.solve([0, 3600])\n",
    "    sims.append(sim)\n",
    "    \n",
    "pybamm.dynamic_plot(sims)"
   ]
  },
  {
   "cell_type": "markdown",
   "id": "8ae5902a",
   "metadata": {},
   "source": [
    "## Change parameter values\n",
    "\n",
    "So far we have run the models with the default parameter sets, but PyBaMM includes various parameter sets for different chemistries. It also allows users to define their own parameter sets. For example, to use the parameters for NMC 811 and graphite-SiO$_x$ from Chen et al. (2020), we simply need to add an additional line of code."
   ]
  },
  {
   "cell_type": "code",
   "execution_count": null,
   "id": "bfc4f0cb",
   "metadata": {},
   "outputs": [],
   "source": [
    "model = pybamm.lithium_ion.DFN()\n",
    "parameter_values = pybamm.ParameterValues(\"Chen2020\")\n",
    "parameter_values[\"Negative electrode thickness [m]\"] = 100*1e-6\n",
    "sim = pybamm.Simulation(model, parameter_values=parameter_values)\n",
    "sim.solve([0, 3600])\n",
    "sim.plot()"
   ]
  },
  {
   "cell_type": "markdown",
   "id": "26b1acef",
   "metadata": {},
   "source": [
    "Following open-science principles, PyBaMM provides a list of the references used for the different components of the code (e.g. model, parameters, numerical solvers...). Adding `pybamm.print_citations()` at the end of the script provides a list with all the relevant citations."
   ]
  },
  {
   "cell_type": "code",
   "execution_count": null,
   "id": "c1c515ef",
   "metadata": {},
   "outputs": [],
   "source": [
    "pybamm.print_citations()"
   ]
  },
  {
   "cell_type": "markdown",
   "id": "a1f5f9c9",
   "metadata": {},
   "source": [
    "For example, in this case we have Andersson et al. (2019) for the CasADI solver, Chen et al. (2020) for the parameter set, or Doyle et al. (1993) for the model."
   ]
  },
  {
   "cell_type": "markdown",
   "id": "139df0fc",
   "metadata": {},
   "source": [
    "We can also change individual parameter values"
   ]
  },
  {
   "cell_type": "code",
   "execution_count": null,
   "id": "a34df329",
   "metadata": {},
   "outputs": [],
   "source": [
    "model = pybamm.lithium_ion.DFN()\n",
    "parameter_values[\"Negative electrode thickness [m]\"] = 100e-6\n",
    "sim = pybamm.Simulation(model, parameter_values=parameter_values)\n",
    "sim.solve([0, 3600])\n",
    "sim.plot()"
   ]
  },
  {
   "cell_type": "markdown",
   "id": "8f259bb3",
   "metadata": {},
   "source": [
    "Parameter values can also be modified \"on the fly\" at the call to `sim.solve` allowing the solve to be wrapped in an optimisation routine. "
   ]
  },
  {
   "cell_type": "markdown",
   "id": "a3c9c217",
   "metadata": {},
   "source": [
    "## Run experiments\n",
    "\n",
    "So far we have seen constant current discharges, but usually we want to simulate more complex cycles. This can be done using the `Experiment` class. The various steps of the experiment are defined in words and PyBaMM automatically assembles the correct model."
   ]
  },
  {
   "cell_type": "code",
   "execution_count": null,
   "id": "bffe3e0c",
   "metadata": {},
   "outputs": [],
   "source": [
    "model = pybamm.lithium_ion.DFN()\n",
    "\n",
    "experiment = pybamm.Experiment(\n",
    "    [\n",
    "        (\"Discharge at C/5 for 5 hours or until 3.3 V\",\n",
    "        \"Rest for 1 hour\",\n",
    "        \"Charge at 1 A until 4.1 V\",\n",
    "        \"Hold at 4.1 V until 50 mA\",\n",
    "        \"Rest for 1 hour\"),\n",
    "    ] * 2\n",
    ")\n",
    "\n",
    "\n",
    "sim = pybamm.Simulation(model, experiment=experiment)\n",
    "sim.solve()\n",
    "sim.plot()"
   ]
  },
  {
   "cell_type": "markdown",
   "id": "699ecdab",
   "metadata": {},
   "source": [
    "This feature also allows to easily simulate drive cycles from data"
   ]
  },
  {
   "cell_type": "code",
   "execution_count": null,
   "id": "d5195cdd",
   "metadata": {},
   "outputs": [],
   "source": [
    "import pandas as pd\n",
    "\n",
    "model = pybamm.lithium_ion.SPMe()\n",
    "\n",
    "# import drive cycle from file\n",
    "US06 = pd.read_csv(\"US06.csv\", comment=\"#\", header=None).to_numpy()\n",
    "\n",
    "experiment = pybamm.Experiment(\n",
    "    [\n",
    "        \"Run US06 (A) for 15 minutes\",\n",
    "        \"Rest for 5 minutes\",\n",
    "        \"Run US06 (A) for 10 minutes\",\n",
    "    ],\n",
    "    period = \"1 second\",\n",
    "    drive_cycles={\"US06\": US06}\n",
    ")\n",
    "\n",
    "\n",
    "sim = pybamm.Simulation(model, experiment=experiment)\n",
    "sim.solve()\n",
    "sim.plot()"
   ]
  },
  {
   "cell_type": "code",
   "execution_count": null,
   "id": "a132b2f4",
   "metadata": {},
   "outputs": [],
   "source": []
  }
 ],
 "metadata": {
  "kernelspec": {
   "display_name": "Python 3",
   "language": "python",
   "name": "python3"
  },
  "language_info": {
   "codemirror_mode": {
    "name": "ipython",
    "version": 3
   },
   "file_extension": ".py",
   "mimetype": "text/x-python",
   "name": "python",
   "nbconvert_exporter": "python",
   "pygments_lexer": "ipython3",
   "version": "3.8.13"
  }
 },
 "nbformat": 4,
 "nbformat_minor": 5
}
