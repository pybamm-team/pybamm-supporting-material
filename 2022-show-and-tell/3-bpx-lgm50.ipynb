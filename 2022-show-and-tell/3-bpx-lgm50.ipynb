{
 "cells": [
  {
   "cell_type": "markdown",
   "id": "133250c6",
   "metadata": {},
   "source": [
    "# Using BPX with PyBaMM"
   ]
  },
  {
   "cell_type": "code",
   "execution_count": 1,
   "id": "86052479",
   "metadata": {},
   "outputs": [
    {
     "data": {
      "application/vnd.jupyter.widget-view+json": {
       "model_id": "dffbca64b2ff4a44a5b5ae8a11ee9d6f",
       "version_major": 2,
       "version_minor": 0
      },
      "text/plain": [
       "interactive(children=(FloatSlider(value=0.0, description='t', max=900.0, step=9.0), Output()), _dom_classes=('…"
      ]
     },
     "metadata": {},
     "output_type": "display_data"
    },
    {
     "data": {
      "text/plain": [
       "<pybamm.plotting.quick_plot.QuickPlot at 0x7fabd7142550>"
      ]
     },
     "execution_count": 1,
     "metadata": {},
     "output_type": "execute_result"
    }
   ],
   "source": [
    "# import packages\n",
    "import pybamm\n",
    "import pandas as pd\n",
    "\n",
    "# import parameters from \"draft\" BPX standard \n",
    "from bpx_lgm50 import parameter_values\n",
    "\n",
    "# select model\n",
    "model = pybamm.lithium_ion.DFN()\n",
    "\n",
    "# define drive cycle experiment\n",
    "US06 = pd.read_csv(\"US06.csv\", comment=\"#\", header=None).to_numpy()\n",
    "experiment = pybamm.Experiment(\n",
    "    [\n",
    "        \"Run US06 (A) for 15 minutes\",\n",
    "    ],\n",
    "    drive_cycles={\"US06\": US06}\n",
    ")\n",
    "\n",
    "# set up and solve simulation\n",
    "sim = pybamm.Simulation(\n",
    "    model, \n",
    "    parameter_values=parameter_values, \n",
    "    experiment=experiment\n",
    ")\n",
    "sim.solve()\n",
    "\n",
    "# plot results \n",
    "sim.plot(\n",
    "    [\n",
    "        \"Current [A]\",\n",
    "        \"Terminal voltage [V]\",\n",
    "    ]\n",
    ")\n",
    "\n",
    "\n"
   ]
  },
  {
   "cell_type": "code",
   "execution_count": null,
   "id": "fb4cdf72",
   "metadata": {},
   "outputs": [],
   "source": []
  }
 ],
 "metadata": {
  "kernelspec": {
   "display_name": "Python 3",
   "language": "python",
   "name": "python3"
  },
  "language_info": {
   "codemirror_mode": {
    "name": "ipython",
    "version": 3
   },
   "file_extension": ".py",
   "mimetype": "text/x-python",
   "name": "python",
   "nbconvert_exporter": "python",
   "pygments_lexer": "ipython3",
   "version": "3.8.13"
  }
 },
 "nbformat": 4,
 "nbformat_minor": 5
}
