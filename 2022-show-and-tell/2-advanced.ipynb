{
 "cells": [
  {
   "cell_type": "markdown",
   "id": "d7883ead",
   "metadata": {},
   "source": [
    "# PyBaMM \"show and tell\"\n",
    "\n",
    "PyBaMM is an open-source package to simulate physics-based models for lithium-ion batteries using state-of-the-art techniques.  The package is built on Python, and provides a flexible platform for implementation and comparison of new models and numerical methods, and an easy interaction with other Python packages. PyBaMM includes a broad range of standard and cutting-edge models for lithium-ion batteries including electrochemical, thermal and degradation effects."
   ]
  },
  {
   "cell_type": "markdown",
   "id": "f3ab1b13",
   "metadata": {},
   "source": [
    "## Degradation modelling\n",
    "\n",
    "There are multiple degradation models corresponding to various effects:\n",
    "\n",
    "* **SEI:** reaction, solvent-diffusion limited, electron-migration limited, interstitial-diffusion limited, and ec reaction limited.\n",
    "* **Lithium plating:** irreversible and reversible.\n",
    "* **Mechanics:** particle expansion and cracking.\n",
    "\n",
    "It is also straightforward to combine multiple mechanisms.\n",
    "\n",
    "## SEI growth and lithium plating with porosity change"
   ]
  },
  {
   "cell_type": "code",
   "execution_count": null,
   "id": "3a1ccf2d",
   "metadata": {},
   "outputs": [],
   "source": [
    "import pybamm as pb\n",
    "\n",
    "pb.set_logging_level(\"NOTICE\")"
   ]
  },
  {
   "cell_type": "code",
   "execution_count": null,
   "id": "35785781",
   "metadata": {},
   "outputs": [],
   "source": [
    "model = pb.lithium_ion.DFN(\n",
    "    {\n",
    "        \"SEI\": \"ec reaction limited\",\n",
    "        \"SEI film resistance\": \"distributed\",\n",
    "        \"SEI porosity change\": \"true\",\n",
    "        \"lithium plating\": \"irreversible\",\n",
    "        \"lithium plating porosity change\": \"true\",\n",
    "    }\n",
    ")"
   ]
  },
  {
   "cell_type": "code",
   "execution_count": null,
   "id": "ce1d49f1",
   "metadata": {},
   "outputs": [],
   "source": [
    "param = pb.ParameterValues(\"Mohtat2020\")"
   ]
  },
  {
   "cell_type": "code",
   "execution_count": null,
   "id": "97a9fd6b",
   "metadata": {},
   "outputs": [],
   "source": [
    "experiment = pb.Experiment(\n",
    "    [\n",
    "        (\n",
    "            \"Charge at 1 C until 4.2 V\",\n",
    "            \"Hold at 4.2 V until C/10\",\n",
    "            \"Rest for 5 minutes\",\n",
    "            \"Discharge at 1 C until 2.8 V\",\n",
    "            \"Rest for 5 minutes\",\n",
    "        )\n",
    "    ]\n",
    "    * 2\n",
    "    + [\n",
    "        (\n",
    "            \"Charge at 1 C until 4.2 V\",\n",
    "            \"Hold at 4.2 V until C/20\",\n",
    "            \"Rest for 30 minutes\",\n",
    "            \"Discharge at C/3 until 2.8 V\",\n",
    "            \"Rest for 30 minutes\",\n",
    "        ),\n",
    "        (\n",
    "            \"Charge at 1 C until 4.2 V\",\n",
    "            \"Hold at 4.2 V until C/20\",\n",
    "            \"Rest for 30 minutes\",\n",
    "            \"Discharge at 1 C until 2.8 V\",\n",
    "            \"Rest for 30 minutes\",\n",
    "        ),\n",
    "        (\n",
    "            \"Charge at 1 C until 4.2 V\",\n",
    "            \"Hold at 4.2 V until C/20\",\n",
    "            \"Rest for 30 minutes\",\n",
    "            \"Discharge at 2 C until 2.8 V\",\n",
    "            \"Rest for 30 minutes\",\n",
    "        ),\n",
    "        (\n",
    "            \"Charge at 1 C until 4.2 V\",\n",
    "            \"Hold at 4.2 V until C/20\",\n",
    "            \"Rest for 30 minutes\",\n",
    "            \"Discharge at 3 C until 2.8 V (10 second period)\",\n",
    "            \"Rest for 30 minutes\",\n",
    "        ),\n",
    "    ]\n",
    ")"
   ]
  },
  {
   "cell_type": "code",
   "execution_count": null,
   "id": "88ddeb89",
   "metadata": {},
   "outputs": [],
   "source": [
    "sim = pb.Simulation(model, experiment=experiment, parameter_values=param)"
   ]
  },
  {
   "cell_type": "code",
   "execution_count": null,
   "id": "377d71bb",
   "metadata": {},
   "outputs": [],
   "source": [
    "sim.solve()"
   ]
  },
  {
   "cell_type": "code",
   "execution_count": null,
   "id": "3f6a39d2",
   "metadata": {},
   "outputs": [],
   "source": [
    "sim.plot(\n",
    "    [\n",
    "        \"Current [A]\",\n",
    "        \"Terminal voltage [V]\",\n",
    "        \"Discharge capacity [A.h]\", \n",
    "        \"Electrolyte potential [V]\",\n",
    "        \"Electrolyte concentration [mol.m-3]\",\n",
    "        \"SEI interfacial current density [A.m-2]\",                \n",
    "        \"X-averaged negative electrode porosity\",\n",
    "        \"X-averaged total SEI thickness [m]\",\n",
    "        [\n",
    "            \"Total lithium lost [mol]\",\n",
    "            \"Loss of lithium to SEI [mol]\",\n",
    "        ],\n",
    "    ]\n",
    ")"
   ]
  },
  {
   "cell_type": "markdown",
   "id": "6d1efda5",
   "metadata": {},
   "source": [
    "## Particle size distributions\n",
    "\n",
    "It is easy to simulate electrodes with a distribution of particle sizes. You simply need to provide the parameters of the distribution. "
   ]
  },
  {
   "cell_type": "code",
   "execution_count": null,
   "id": "5ca56326",
   "metadata": {},
   "outputs": [],
   "source": [
    "model = pb.lithium_ion.DFN(options={\"particle size\": \"distribution\"})\n",
    "\n",
    "params = pb.ParameterValues(\"Marquis2019\")\n",
    "params = pb.get_size_distribution_parameters(params)\n",
    "\n",
    "solver = pb.CasadiSolver(mode=\"fast\")\n",
    "sim = pb.Simulation(model, parameter_values=params, solver=solver)\n",
    "\n",
    "sim.solve(t_eval=[0, 3500])\n",
    "\n",
    "output_variables = [\n",
    "    \"Negative particle surface concentration distribution\",\n",
    "    \"Positive particle surface concentration distribution\",\n",
    "    \"X-averaged negative particle surface concentration distribution\",\n",
    "    \"Negative area-weighted particle-size distribution\",\n",
    "    \"Positive area-weighted particle-size distribution\",\n",
    "    \"Terminal voltage [V]\",\n",
    "]\n",
    "\n",
    "sim.plot(output_variables=[\n",
    "    \"Negative particle surface concentration distribution\",\n",
    "    \"Positive particle surface concentration distribution\",\n",
    "    \"X-averaged negative particle surface concentration distribution\",\n",
    "    \"Negative area-weighted particle-size distribution\",\n",
    "    \"Positive area-weighted particle-size distribution\",\n",
    "    \"Terminal voltage [V]\",\n",
    "])"
   ]
  },
  {
   "cell_type": "code",
   "execution_count": null,
   "id": "21b5b9f3",
   "metadata": {},
   "outputs": [],
   "source": []
  }
 ],
 "metadata": {
  "kernelspec": {
   "display_name": "Python 3",
   "language": "python",
   "name": "python3"
  },
  "language_info": {
   "codemirror_mode": {
    "name": "ipython",
    "version": 3
   },
   "file_extension": ".py",
   "mimetype": "text/x-python",
   "name": "python",
   "nbconvert_exporter": "python",
   "pygments_lexer": "ipython3",
   "version": "3.8.13"
  }
 },
 "nbformat": 4,
 "nbformat_minor": 5
}
